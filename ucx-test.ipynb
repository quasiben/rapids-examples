{
 "cells": [
  {
   "cell_type": "code",
   "execution_count": null,
   "metadata": {},
   "outputs": [],
   "source": [
    "from dask.distributed import Client, wait\n",
    "from dask_cuda import DGX\n",
    "from dask_cuda.initialize import initialize"
   ]
  },
  {
   "cell_type": "code",
   "execution_count": null,
   "metadata": {},
   "outputs": [],
   "source": [
    "enable_tcp_over_ucx = True\n",
    "enable_infiniband = False\n",
    "enable_nvlink = True"
   ]
  },
  {
   "cell_type": "code",
   "execution_count": null,
   "metadata": {},
   "outputs": [],
   "source": [
    "initialize(\n",
    "    create_cuda_context=True,\n",
    "    enable_tcp_over_ucx=enable_tcp_over_ucx,\n",
    "    enable_infiniband=enable_infiniband,\n",
    "    enable_nvlink=enable_nvlink,\n",
    ")"
   ]
  },
  {
   "cell_type": "code",
   "execution_count": null,
   "metadata": {},
   "outputs": [],
   "source": [
    "from dask.distributed import Client, wait\n",
    "from dask_cuda import DGX\n",
    "\n",
    "# control number of workers with `CUDA_VISIBLE_DEVICES`\n",
    "# definition\n",
    "cluster = DGX(CUDA_VISIBLE_DEVICES=[0,1,2,3,4,5,6,7],\n",
    "              enable_tcp_over_ucx=enable_tcp_over_ucx,\n",
    "              enable_infiniband=enable_infiniband,\n",
    "              enable_nvlink=enable_nvlink,\n",
    "              dashboard_address=':8787')\n",
    "client = Client(cluster);\n",
    "client"
   ]
  },
  {
   "cell_type": "code",
   "execution_count": null,
   "metadata": {},
   "outputs": [],
   "source": [
    "import dask.array as da\n",
    "import dask.dataframe as dd\n",
    "\n",
    "n_rows = 1000000000\n",
    "n_keys = 5000000\n",
    "\n",
    "left = dd.concat([\n",
    "    da.random.random(n_rows).to_dask_dataframe(columns='x'),\n",
    "    da.random.randint(0, n_keys, size=n_rows).to_dask_dataframe(columns='id'),\n",
    "], axis=1).persist()\n",
    "left"
   ]
  },
  {
   "cell_type": "code",
   "execution_count": null,
   "metadata": {},
   "outputs": [],
   "source": [
    "n_rows = 10000000\n",
    "\n",
    "right = dd.concat([\n",
    "    da.random.random(n_rows).to_dask_dataframe(columns='y'),\n",
    "    da.random.randint(0, n_keys, size=n_rows).to_dask_dataframe(columns='id'),\n",
    "], axis=1).persist()\n",
    "right"
   ]
  },
  {
   "cell_type": "code",
   "execution_count": null,
   "metadata": {},
   "outputs": [],
   "source": [
    "import cudf, dask"
   ]
  },
  {
   "cell_type": "code",
   "execution_count": null,
   "metadata": {},
   "outputs": [],
   "source": [
    "gleft = left.map_partitions(cudf.from_pandas)\n",
    "gright = right.map_partitions(cudf.from_pandas)\n",
    "# gright = gright.repartition(npartitions=8)\n",
    "# gleft = gleft.repartition(npartitions=8)\n",
    "gleft, gright = dask.persist(gleft, gright)  # persist data in device memory"
   ]
  },
  {
   "cell_type": "code",
   "execution_count": null,
   "metadata": {},
   "outputs": [],
   "source": [
    "from distributed.utils import format_bytes\n",
    "right_gb = format_bytes(len(gright) * 8 * 2)\n",
    "left_gb = format_bytes(len(gleft) * 8 * 2)\n",
    "print(f'Total Left: {left_gb} Total Right: {right_gb}')"
   ]
  },
  {
   "cell_type": "code",
   "execution_count": null,
   "metadata": {},
   "outputs": [],
   "source": []
  },
  {
   "cell_type": "code",
   "execution_count": null,
   "metadata": {},
   "outputs": [],
   "source": [
    "out = gleft.merge(gright, on=['id'])  # this is lazy"
   ]
  },
  {
   "cell_type": "code",
   "execution_count": null,
   "metadata": {},
   "outputs": [],
   "source": [
    "out = out.persist()\n",
    "%time _ = wait(out)"
   ]
  },
  {
   "cell_type": "code",
   "execution_count": null,
   "metadata": {},
   "outputs": [],
   "source": [
    "cluster.scheduler.bandwidth"
   ]
  },
  {
   "cell_type": "raw",
   "metadata": {},
   "source": [
    "data = client.run_on_scheduler(lambda dask_scheduler: dask_scheduler.bandwidth_workers)"
   ]
  },
  {
   "cell_type": "code",
   "execution_count": null,
   "metadata": {},
   "outputs": [],
   "source": [
    "data"
   ]
  },
  {
   "cell_type": "code",
   "execution_count": null,
   "metadata": {},
   "outputs": [],
   "source": [
    "from distributed.utils import format_bytes\n",
    "total = sum([d for w, d in data.items()])\n",
    "format_bytes(total)"
   ]
  },
  {
   "cell_type": "code",
   "execution_count": null,
   "metadata": {},
   "outputs": [],
   "source": []
  }
 ],
 "metadata": {
  "kernelspec": {
   "display_name": "Python [conda env:cudf_dev101]",
   "language": "python",
   "name": "conda-env-cudf_dev101-py"
  },
  "language_info": {
   "codemirror_mode": {
    "name": "ipython",
    "version": 3
   },
   "file_extension": ".py",
   "mimetype": "text/x-python",
   "name": "python",
   "nbconvert_exporter": "python",
   "pygments_lexer": "ipython3",
   "version": "3.7.3"
  }
 },
 "nbformat": 4,
 "nbformat_minor": 4
}
