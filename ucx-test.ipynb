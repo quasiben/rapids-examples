{
 "cells": [
  {
   "cell_type": "code",
   "execution_count": 1,
   "metadata": {},
   "outputs": [],
   "source": [
    "from dask.distributed import Client, wait\n",
    "from dask_cuda import DGX\n",
    "from dask_cuda.initialize import initialize"
   ]
  },
  {
   "cell_type": "code",
   "execution_count": 2,
   "metadata": {},
   "outputs": [],
   "source": [
    "enable_tcp_over_ucx = True\n",
    "enable_infiniband = False\n",
    "enable_nvlink = False"
   ]
  },
  {
   "cell_type": "code",
   "execution_count": 3,
   "metadata": {},
   "outputs": [],
   "source": [
    "initialize(\n",
    "    create_cuda_context=True,\n",
    "    enable_tcp_over_ucx=enable_tcp_over_ucx,\n",
    "    enable_infiniband=enable_infiniband,\n",
    "    enable_nvlink=enable_nvlink,\n",
    ")"
   ]
  },
  {
   "cell_type": "code",
   "execution_count": 4,
   "metadata": {},
   "outputs": [
    {
     "name": "stderr",
     "output_type": "stream",
     "text": [
      "distributed.dashboard.proxy - INFO - To route to workers diagnostics web server please install jupyter-server-proxy: pip install jupyter-server-proxy\n",
      "distributed.scheduler - INFO - Clear task state\n",
      "distributed.scheduler - INFO -   Scheduler at:     ucx://127.0.0.1:35473\n",
      "distributed.scheduler - INFO -   dashboard at:            127.0.0.1:8787\n",
      "distributed.nanny - INFO -         Start Nanny at: 'ucx://127.0.0.1:47901'\n",
      "distributed.nanny - INFO -         Start Nanny at: 'ucx://127.0.0.1:45269'\n",
      "distributed.nanny - INFO -         Start Nanny at: 'ucx://127.0.0.1:52101'\n",
      "distributed.nanny - INFO -         Start Nanny at: 'ucx://127.0.0.1:59295'\n",
      "distributed.nanny - INFO -         Start Nanny at: 'ucx://127.0.0.1:54187'\n",
      "distributed.nanny - INFO -         Start Nanny at: 'ucx://127.0.0.1:57395'\n",
      "distributed.nanny - INFO -         Start Nanny at: 'ucx://127.0.0.1:44997'\n",
      "distributed.nanny - INFO -         Start Nanny at: 'ucx://127.0.0.1:50141'\n",
      "distributed.scheduler - INFO - Register ucx://127.0.0.1:53741\n",
      "distributed.scheduler - INFO - Starting worker compute stream, ucx://127.0.0.1:53741\n",
      "distributed.core - INFO - Starting established connection\n",
      "distributed.scheduler - INFO - Register ucx://127.0.0.1:52009\n",
      "distributed.scheduler - INFO - Starting worker compute stream, ucx://127.0.0.1:52009\n",
      "distributed.core - INFO - Starting established connection\n",
      "distributed.scheduler - INFO - Register ucx://127.0.0.1:48995\n",
      "distributed.scheduler - INFO - Starting worker compute stream, ucx://127.0.0.1:48995\n",
      "distributed.core - INFO - Starting established connection\n",
      "distributed.scheduler - INFO - Register ucx://127.0.0.1:54673\n",
      "distributed.scheduler - INFO - Starting worker compute stream, ucx://127.0.0.1:54673\n",
      "distributed.core - INFO - Starting established connection\n",
      "distributed.scheduler - INFO - Register ucx://127.0.0.1:35107\n",
      "distributed.scheduler - INFO - Starting worker compute stream, ucx://127.0.0.1:35107\n",
      "distributed.core - INFO - Starting established connection\n",
      "distributed.scheduler - INFO - Register ucx://127.0.0.1:60137\n",
      "distributed.scheduler - INFO - Starting worker compute stream, ucx://127.0.0.1:60137\n",
      "distributed.core - INFO - Starting established connection\n",
      "distributed.scheduler - INFO - Register ucx://127.0.0.1:39215\n",
      "distributed.scheduler - INFO - Starting worker compute stream, ucx://127.0.0.1:39215\n",
      "distributed.core - INFO - Starting established connection\n",
      "distributed.scheduler - INFO - Register ucx://127.0.0.1:59473\n",
      "distributed.scheduler - INFO - Starting worker compute stream, ucx://127.0.0.1:59473\n",
      "distributed.core - INFO - Starting established connection\n",
      "distributed.scheduler - INFO - Receive client connection: Client-61d8273e-0b13-11ea-b357-d8c49764f70a\n",
      "distributed.core - INFO - Starting established connection\n"
     ]
    },
    {
     "data": {
      "text/html": [
       "<table style=\"border: 2px solid white;\">\n",
       "<tr>\n",
       "<td style=\"vertical-align: top; border: 0px solid white\">\n",
       "<h3 style=\"text-align: left;\">Client</h3>\n",
       "<ul style=\"text-align: left; list-style: none; margin: 0; padding: 0;\">\n",
       "  <li><b>Scheduler: </b>ucx://127.0.0.1:35473</li>\n",
       "  <li><b>Dashboard: </b><a href='http://127.0.0.1:8787/status' target='_blank'>http://127.0.0.1:8787/status</a>\n",
       "</ul>\n",
       "</td>\n",
       "<td style=\"vertical-align: top; border: 0px solid white\">\n",
       "<h3 style=\"text-align: left;\">Cluster</h3>\n",
       "<ul style=\"text-align: left; list-style:none; margin: 0; padding: 0;\">\n",
       "  <li><b>Workers: </b>8</li>\n",
       "  <li><b>Cores: </b>8</li>\n",
       "  <li><b>Memory: </b>1.08 TB</li>\n",
       "</ul>\n",
       "</td>\n",
       "</tr>\n",
       "</table>"
      ],
      "text/plain": [
       "<Client: 'ucx://127.0.0.1:35473' processes=8 threads=8, memory=1.08 TB>"
      ]
     },
     "execution_count": 4,
     "metadata": {},
     "output_type": "execute_result"
    }
   ],
   "source": [
    "from dask.distributed import Client, wait\n",
    "from dask_cuda import DGX\n",
    "\n",
    "# control number of workers with `CUDA_VISIBLE_DEVICES`\n",
    "# definition\n",
    "cluster = DGX(CUDA_VISIBLE_DEVICES=[0,1,2,3,4,5,6,7],\n",
    "              enable_tcp_over_ucx=enable_tcp_over_ucx,\n",
    "              enable_infiniband=enable_infiniband,\n",
    "              enable_nvlink=enable_nvlink,\n",
    "              dashboard_address=':8787')\n",
    "client = Client(cluster);\n",
    "client"
   ]
  },
  {
   "cell_type": "code",
   "execution_count": 5,
   "metadata": {},
   "outputs": [],
   "source": [
    "import dask_cudf, cudf, dask"
   ]
  },
  {
   "cell_type": "code",
   "execution_count": 6,
   "metadata": {},
   "outputs": [
    {
     "data": {
      "text/html": [
       "<div><strong>Dask DataFrame Structure:</strong></div>\n",
       "<div>\n",
       "<style scoped>\n",
       "    .dataframe tbody tr th:only-of-type {\n",
       "        vertical-align: middle;\n",
       "    }\n",
       "\n",
       "    .dataframe tbody tr th {\n",
       "        vertical-align: top;\n",
       "    }\n",
       "\n",
       "    .dataframe thead th {\n",
       "        text-align: right;\n",
       "    }\n",
       "</style>\n",
       "<table border=\"1\" class=\"dataframe\">\n",
       "  <thead>\n",
       "    <tr style=\"text-align: right;\">\n",
       "      <th></th>\n",
       "      <th>x</th>\n",
       "      <th>id</th>\n",
       "    </tr>\n",
       "    <tr>\n",
       "      <th>npartitions=64</th>\n",
       "      <th></th>\n",
       "      <th></th>\n",
       "    </tr>\n",
       "  </thead>\n",
       "  <tbody>\n",
       "    <tr>\n",
       "      <th>0</th>\n",
       "      <td>float64</td>\n",
       "      <td>int64</td>\n",
       "    </tr>\n",
       "    <tr>\n",
       "      <th>15625000</th>\n",
       "      <td>...</td>\n",
       "      <td>...</td>\n",
       "    </tr>\n",
       "    <tr>\n",
       "      <th>...</th>\n",
       "      <td>...</td>\n",
       "      <td>...</td>\n",
       "    </tr>\n",
       "    <tr>\n",
       "      <th>984375000</th>\n",
       "      <td>...</td>\n",
       "      <td>...</td>\n",
       "    </tr>\n",
       "    <tr>\n",
       "      <th>999999999</th>\n",
       "      <td>...</td>\n",
       "      <td>...</td>\n",
       "    </tr>\n",
       "  </tbody>\n",
       "</table>\n",
       "</div>\n",
       "<div>Dask Name: concat-indexed, 64 tasks</div>"
      ],
      "text/plain": [
       "Dask DataFrame Structure:\n",
       "                      x     id\n",
       "npartitions=64                \n",
       "0               float64  int64\n",
       "15625000            ...    ...\n",
       "...                 ...    ...\n",
       "984375000           ...    ...\n",
       "999999999           ...    ...\n",
       "Dask Name: concat-indexed, 64 tasks"
      ]
     },
     "execution_count": 6,
     "metadata": {},
     "output_type": "execute_result"
    }
   ],
   "source": [
    "import dask.array as da\n",
    "import dask.dataframe as dd\n",
    "\n",
    "n_rows = 1000000000\n",
    "n_keys = 5000000\n",
    "\n",
    "left = dd.concat([\n",
    "    da.random.random(n_rows).to_dask_dataframe(columns='x'),\n",
    "    da.random.randint(0, n_keys, size=n_rows).to_dask_dataframe(columns='id'),\n",
    "], axis=1).persist()\n",
    "left"
   ]
  },
  {
   "cell_type": "code",
   "execution_count": 7,
   "metadata": {},
   "outputs": [
    {
     "data": {
      "text/html": [
       "<div><strong>Dask DataFrame Structure:</strong></div>\n",
       "<div>\n",
       "<style scoped>\n",
       "    .dataframe tbody tr th:only-of-type {\n",
       "        vertical-align: middle;\n",
       "    }\n",
       "\n",
       "    .dataframe tbody tr th {\n",
       "        vertical-align: top;\n",
       "    }\n",
       "\n",
       "    .dataframe thead th {\n",
       "        text-align: right;\n",
       "    }\n",
       "</style>\n",
       "<table border=\"1\" class=\"dataframe\">\n",
       "  <thead>\n",
       "    <tr style=\"text-align: right;\">\n",
       "      <th></th>\n",
       "      <th>y</th>\n",
       "      <th>id</th>\n",
       "    </tr>\n",
       "    <tr>\n",
       "      <th>npartitions=1</th>\n",
       "      <th></th>\n",
       "      <th></th>\n",
       "    </tr>\n",
       "  </thead>\n",
       "  <tbody>\n",
       "    <tr>\n",
       "      <th>0</th>\n",
       "      <td>float64</td>\n",
       "      <td>int64</td>\n",
       "    </tr>\n",
       "    <tr>\n",
       "      <th>9999999</th>\n",
       "      <td>...</td>\n",
       "      <td>...</td>\n",
       "    </tr>\n",
       "  </tbody>\n",
       "</table>\n",
       "</div>\n",
       "<div>Dask Name: concat-indexed, 1 tasks</div>"
      ],
      "text/plain": [
       "Dask DataFrame Structure:\n",
       "                     y     id\n",
       "npartitions=1                \n",
       "0              float64  int64\n",
       "9999999            ...    ...\n",
       "Dask Name: concat-indexed, 1 tasks"
      ]
     },
     "execution_count": 7,
     "metadata": {},
     "output_type": "execute_result"
    }
   ],
   "source": [
    "n_rows = 10000000\n",
    "\n",
    "right = dd.concat([\n",
    "    da.random.random(n_rows).to_dask_dataframe(columns='y'),\n",
    "    da.random.randint(0, n_keys, size=n_rows).to_dask_dataframe(columns='id'),\n",
    "], axis=1).persist()\n",
    "right"
   ]
  },
  {
   "cell_type": "code",
   "execution_count": 8,
   "metadata": {},
   "outputs": [],
   "source": [
    "gleft = left.map_partitions(cudf.from_pandas)\n",
    "gright = right.map_partitions(cudf.from_pandas)\n",
    "# gright = gright.repartition(npartitions=8)\n",
    "# gleft = gleft.repartition(npartitions=8)\n",
    "gleft, gright = dask.persist(gleft, gright)  # persist data in device memory"
   ]
  },
  {
   "cell_type": "code",
   "execution_count": 9,
   "metadata": {},
   "outputs": [
    {
     "name": "stdout",
     "output_type": "stream",
     "text": [
      "Total Left: 16.00 GB Total Right: 160.00 MB\n"
     ]
    }
   ],
   "source": [
    "from distributed.utils import format_bytes\n",
    "right_gb = format_bytes(len(gright) * 8 * 2)\n",
    "left_gb = format_bytes(len(gleft) * 8 * 2)\n",
    "print(f'Total Left: {left_gb} Total Right: {right_gb}')"
   ]
  },
  {
   "cell_type": "code",
   "execution_count": 10,
   "metadata": {},
   "outputs": [],
   "source": [
    "out = gleft.merge(gright, on=['id'])  # this is lazy"
   ]
  },
  {
   "cell_type": "code",
   "execution_count": 11,
   "metadata": {},
   "outputs": [
    {
     "name": "stdout",
     "output_type": "stream",
     "text": [
      "CPU times: user 752 ms, sys: 150 ms, total: 903 ms\n",
      "Wall time: 10.1 s\n"
     ]
    }
   ],
   "source": [
    "out = out.persist()\n",
    "%time _ = wait(out)"
   ]
  },
  {
   "cell_type": "code",
   "execution_count": 12,
   "metadata": {},
   "outputs": [
    {
     "data": {
      "text/html": [
       "<div>\n",
       "<style scoped>\n",
       "    .dataframe tbody tr th:only-of-type {\n",
       "        vertical-align: middle;\n",
       "    }\n",
       "\n",
       "    .dataframe tbody tr th {\n",
       "        vertical-align: top;\n",
       "    }\n",
       "\n",
       "    .dataframe thead th {\n",
       "        text-align: right;\n",
       "    }\n",
       "</style>\n",
       "<table border=\"1\" class=\"dataframe\">\n",
       "  <thead>\n",
       "    <tr style=\"text-align: right;\">\n",
       "      <th></th>\n",
       "      <th>x</th>\n",
       "      <th>id</th>\n",
       "      <th>y</th>\n",
       "    </tr>\n",
       "  </thead>\n",
       "  <tbody>\n",
       "    <tr>\n",
       "      <th>0</th>\n",
       "      <td>0.059495</td>\n",
       "      <td>4715043</td>\n",
       "      <td>0.558606</td>\n",
       "    </tr>\n",
       "    <tr>\n",
       "      <th>1</th>\n",
       "      <td>0.228546</td>\n",
       "      <td>3600331</td>\n",
       "      <td>0.218486</td>\n",
       "    </tr>\n",
       "    <tr>\n",
       "      <th>2</th>\n",
       "      <td>0.038072</td>\n",
       "      <td>3742788</td>\n",
       "      <td>0.662214</td>\n",
       "    </tr>\n",
       "    <tr>\n",
       "      <th>3</th>\n",
       "      <td>0.914860</td>\n",
       "      <td>4125847</td>\n",
       "      <td>0.370489</td>\n",
       "    </tr>\n",
       "    <tr>\n",
       "      <th>4</th>\n",
       "      <td>0.743929</td>\n",
       "      <td>3312664</td>\n",
       "      <td>0.450289</td>\n",
       "    </tr>\n",
       "  </tbody>\n",
       "</table>\n",
       "</div>"
      ],
      "text/plain": [
       "          x       id         y\n",
       "0  0.059495  4715043  0.558606\n",
       "1  0.228546  3600331  0.218486\n",
       "2  0.038072  3742788  0.662214\n",
       "3  0.914860  4125847  0.370489\n",
       "4  0.743929  3312664  0.450289"
      ]
     },
     "execution_count": 12,
     "metadata": {},
     "output_type": "execute_result"
    }
   ],
   "source": [
    "out.head()"
   ]
  },
  {
   "cell_type": "code",
   "execution_count": null,
   "metadata": {},
   "outputs": [],
   "source": []
  }
 ],
 "metadata": {
  "kernelspec": {
   "display_name": "Python [conda env:cudf_dev101]",
   "language": "python",
   "name": "conda-env-cudf_dev101-py"
  },
  "language_info": {
   "codemirror_mode": {
    "name": "ipython",
    "version": 3
   },
   "file_extension": ".py",
   "mimetype": "text/x-python",
   "name": "python",
   "nbconvert_exporter": "python",
   "pygments_lexer": "ipython3",
   "version": "3.7.3"
  }
 },
 "nbformat": 4,
 "nbformat_minor": 4
}
